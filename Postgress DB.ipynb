{
 "cells": [
  {
   "cell_type": "markdown",
   "metadata": {},
   "source": [
    "# Postgress DB HW 1"
   ]
  },
  {
   "cell_type": "code",
   "execution_count": 47,
   "metadata": {},
   "outputs": [],
   "source": [
    "# Импортируем библиотеку для работы с данными:\n",
    "import pandas as pd"
   ]
  },
  {
   "cell_type": "code",
   "execution_count": 51,
   "metadata": {},
   "outputs": [],
   "source": [
    "# Указываем путь в файлу:\n",
    "path = '/Users/edwardgrey/Documents/GitHub/SF Data Bases and Math/customer_and_transaction.xlsx'"
   ]
  },
  {
   "cell_type": "code",
   "execution_count": 55,
   "metadata": {},
   "outputs": [],
   "source": [
    "# Загружаем данные о транзакциях из Excel файла:\n",
    "transaction_data = pd.read_excel(path, sheet_name='transaction')\n",
    "\n",
    "# Загружаем данные о клиентах из того же Excel файла:\n",
    "customer_data = pd.read_excel(path, sheet_name='customer')\n",
    "\n",
    "# Объединяем данные о транзакциях и клиентах по общему столбцу 'customer_id':\n",
    "transaction_and_customers = pd.merge(transaction_data, customer_data, on='customer_id')"
   ]
  },
  {
   "cell_type": "code",
   "execution_count": 56,
   "metadata": {},
   "outputs": [
    {
     "data": {
      "text/html": [
       "<div>\n",
       "<style scoped>\n",
       "    .dataframe tbody tr th:only-of-type {\n",
       "        vertical-align: middle;\n",
       "    }\n",
       "\n",
       "    .dataframe tbody tr th {\n",
       "        vertical-align: top;\n",
       "    }\n",
       "\n",
       "    .dataframe thead th {\n",
       "        text-align: right;\n",
       "    }\n",
       "</style>\n",
       "<table border=\"1\" class=\"dataframe\">\n",
       "  <thead>\n",
       "    <tr style=\"text-align: right;\">\n",
       "      <th></th>\n",
       "      <th>Column Name</th>\n",
       "    </tr>\n",
       "  </thead>\n",
       "  <tbody>\n",
       "    <tr>\n",
       "      <th>0</th>\n",
       "      <td>transaction_id</td>\n",
       "    </tr>\n",
       "    <tr>\n",
       "      <th>1</th>\n",
       "      <td>product_id</td>\n",
       "    </tr>\n",
       "    <tr>\n",
       "      <th>2</th>\n",
       "      <td>customer_id</td>\n",
       "    </tr>\n",
       "    <tr>\n",
       "      <th>3</th>\n",
       "      <td>transaction_date</td>\n",
       "    </tr>\n",
       "    <tr>\n",
       "      <th>4</th>\n",
       "      <td>online_order</td>\n",
       "    </tr>\n",
       "    <tr>\n",
       "      <th>5</th>\n",
       "      <td>order_status</td>\n",
       "    </tr>\n",
       "    <tr>\n",
       "      <th>6</th>\n",
       "      <td>brand</td>\n",
       "    </tr>\n",
       "    <tr>\n",
       "      <th>7</th>\n",
       "      <td>product_line</td>\n",
       "    </tr>\n",
       "    <tr>\n",
       "      <th>8</th>\n",
       "      <td>product_class</td>\n",
       "    </tr>\n",
       "    <tr>\n",
       "      <th>9</th>\n",
       "      <td>product_size</td>\n",
       "    </tr>\n",
       "    <tr>\n",
       "      <th>10</th>\n",
       "      <td>list_price</td>\n",
       "    </tr>\n",
       "    <tr>\n",
       "      <th>11</th>\n",
       "      <td>standard_cost</td>\n",
       "    </tr>\n",
       "    <tr>\n",
       "      <th>12</th>\n",
       "      <td>first_name</td>\n",
       "    </tr>\n",
       "    <tr>\n",
       "      <th>13</th>\n",
       "      <td>last_name</td>\n",
       "    </tr>\n",
       "    <tr>\n",
       "      <th>14</th>\n",
       "      <td>gender</td>\n",
       "    </tr>\n",
       "    <tr>\n",
       "      <th>15</th>\n",
       "      <td>DOB</td>\n",
       "    </tr>\n",
       "    <tr>\n",
       "      <th>16</th>\n",
       "      <td>job_title</td>\n",
       "    </tr>\n",
       "    <tr>\n",
       "      <th>17</th>\n",
       "      <td>job_industry_category</td>\n",
       "    </tr>\n",
       "    <tr>\n",
       "      <th>18</th>\n",
       "      <td>wealth_segment</td>\n",
       "    </tr>\n",
       "    <tr>\n",
       "      <th>19</th>\n",
       "      <td>deceased_indicator</td>\n",
       "    </tr>\n",
       "    <tr>\n",
       "      <th>20</th>\n",
       "      <td>owns_car</td>\n",
       "    </tr>\n",
       "    <tr>\n",
       "      <th>21</th>\n",
       "      <td>address</td>\n",
       "    </tr>\n",
       "    <tr>\n",
       "      <th>22</th>\n",
       "      <td>postcode</td>\n",
       "    </tr>\n",
       "    <tr>\n",
       "      <th>23</th>\n",
       "      <td>state</td>\n",
       "    </tr>\n",
       "    <tr>\n",
       "      <th>24</th>\n",
       "      <td>country</td>\n",
       "    </tr>\n",
       "    <tr>\n",
       "      <th>25</th>\n",
       "      <td>property_valuation</td>\n",
       "    </tr>\n",
       "  </tbody>\n",
       "</table>\n",
       "</div>"
      ],
      "text/plain": [
       "              Column Name\n",
       "0          transaction_id\n",
       "1              product_id\n",
       "2             customer_id\n",
       "3        transaction_date\n",
       "4            online_order\n",
       "5            order_status\n",
       "6                   brand\n",
       "7            product_line\n",
       "8           product_class\n",
       "9            product_size\n",
       "10             list_price\n",
       "11          standard_cost\n",
       "12             first_name\n",
       "13              last_name\n",
       "14                 gender\n",
       "15                    DOB\n",
       "16              job_title\n",
       "17  job_industry_category\n",
       "18         wealth_segment\n",
       "19     deceased_indicator\n",
       "20               owns_car\n",
       "21                address\n",
       "22               postcode\n",
       "23                  state\n",
       "24                country\n",
       "25     property_valuation"
      ]
     },
     "execution_count": 56,
     "metadata": {},
     "output_type": "execute_result"
    }
   ],
   "source": [
    "# Выводим названия столбцов в виде DataFrame для наглялности:\n",
    "pd.DataFrame(transaction_and_customers.columns, columns=['Column Name'])"
   ]
  },
  {
   "cell_type": "code",
   "execution_count": 90,
   "metadata": {},
   "outputs": [],
   "source": [
    "# Создаем случайную выборку из данных для удобства дальнейшего использования:\n",
    "data = transaction_and_customers.sample(10)"
   ]
  },
  {
   "cell_type": "markdown",
   "metadata": {},
   "source": [
    "## Проектирование структуры реляционной базы данных в DBDiagram:\n",
    "\n",
    "![DB Diagram](dbeaver.png)"
   ]
  },
  {
   "cell_type": "markdown",
   "metadata": {},
   "source": [
    "## Разделение данных в соответствии с проектирование в DBDiagram:"
   ]
  },
  {
   "cell_type": "code",
   "execution_count": 92,
   "metadata": {},
   "outputs": [],
   "source": [
    "customers_table = data[['customer_id', \n",
    "                        'first_name', \n",
    "                        'last_name', \n",
    "                        'gender', \n",
    "                        'DOB', \n",
    "                        'job_title', \n",
    "                        'job_industry_category',\n",
    "                        'wealth_segment',\n",
    "                        'deceased_indicator',\n",
    "                        'owns_car',\n",
    "                        'address', \n",
    "                        'postcode',\n",
    "                        'state',\n",
    "                        'country',\n",
    "                        'property_valuation'\n",
    "]]"
   ]
  },
  {
   "cell_type": "code",
   "execution_count": 93,
   "metadata": {},
   "outputs": [],
   "source": [
    "transactions_table = data[['transaction_id',\n",
    "                            'product_id',\n",
    "                            'customer_id',\n",
    "                            'transaction_date',\n",
    "                            'online_order',\n",
    "                            'order_status'\n",
    "]]"
   ]
  },
  {
   "cell_type": "code",
   "execution_count": 94,
   "metadata": {},
   "outputs": [],
   "source": [
    "products_table = data[['product_id',\n",
    "                        'brand',\n",
    "                        'product_line',\n",
    "                        'product_class',\n",
    "                        'product_size',\n",
    "                        'list_price',\n",
    "                        'standard_cost'  \n",
    "]]"
   ]
  },
  {
   "cell_type": "code",
   "execution_count": 95,
   "metadata": {},
   "outputs": [],
   "source": [
    "# Сохраняем DataFrames в файлы CSV для последующей загрузки в Postgres:\n",
    "customers_table.to_csv('customers_table.csv', index=False)\n",
    "transactions_table.to_csv('transactions_table.csv', index=False)\n",
    "products_table.to_csv('products_table.csv', index=False)"
   ]
  },
  {
   "cell_type": "markdown",
   "metadata": {},
   "source": [
    "## Создание Таблиц в DBeaver с Postgres SQL:\n",
    "\n",
    "```sql\n",
    "CREATE TABLE customers (\n",
    "  customer_id INT PRIMARY KEY NOT NULL,\n",
    "  first_name VARCHAR NOT NULL,\n",
    "  last_name VARCHAR NOT NULL,\n",
    "  gender VARCHAR,\n",
    "  DOB DATE,\n",
    "  job_title VARCHAR,\n",
    "  job_industry_category VARCHAR,\n",
    "  wealth_segment VARCHAR,\n",
    "  deceased_indicator VARCHAR,\n",
    "  owns_car VARCHAR,\n",
    "  address VARCHAR,\n",
    "  postcode INT,\n",
    "  state VARCHAR,\n",
    "  country VARCHAR,\n",
    "  property_valuation INT\n",
    ");\n",
    "\n",
    "CREATE TABLE products (\n",
    "  product_id INT PRIMARY KEY NOT NULL,\n",
    "  brand VARCHAR,\n",
    "  product_line VARCHAR,\n",
    "  product_class VARCHAR,\n",
    "  product_size VARCHAR,\n",
    "  list_price DECIMAL,\n",
    "  standard_cost DECIMAL\n",
    ");\n",
    "\n",
    "CREATE TABLE transactions (\n",
    "  transaction_id INT PRIMARY KEY NOT NULL,\n",
    "  product_id INT,\n",
    "  customer_id INT,\n",
    "  transaction_date DATE,\n",
    "  online_order VARCHAR,\n",
    "  order_status VARCHAR,\n",
    "  FOREIGN KEY (product_id) REFERENCES Products(product_id),\n",
    "  FOREIGN KEY (customer_id) REFERENCES Customers(customer_id)\n",
    ");\n",
    "```"
   ]
  },
  {
   "cell_type": "markdown",
   "metadata": {},
   "source": [
    "##  Комментарии"
   ]
  },
  {
   "cell_type": "markdown",
   "metadata": {},
   "source": [
    "Третья нормальная форма (3НФ) предполагает, что в таблице отсутствуют транзитивные зависимости, то есть неключевые атрибуты не зависят от других неключевых атрибутов.\n",
    "\n",
    "1. Customers (Клиенты):\n",
    "\n",
    "`customer_id` - первичный ключ, уникально идентифицирует каждого клиента.\n",
    "\n",
    "Все остальные атрибуты зависят только от `customer_id` и не имеют транзитивных зависимостей.\n",
    "Например, `postcode` зависит от `customer_id` и не зависит от других атрибутов.\n",
    "Таким образом, таблица сustomers соответствует третьей нормальной форме.\n",
    "\n",
    "2. Products (Продукты):\n",
    "\n",
    "`product_id` - первичный ключ, уникально идентифицирует каждый продукт.\n",
    "\n",
    "Замещающий ключ: В данном датасете `product_id` не является уникальным и имеет дубликаты, возможно рассмотреть использование замещающего или суррогатного ключа:\n",
    "\n",
    "```sql\n",
    "product SERIAL PRIMARY KEY,\n",
    "```\n",
    "\n",
    "В этом случае база данных автоматически сгенерирует уникальный `product_id` для каждого нового продукта. Поскольку в данном решении я использую выборку без дубликатов, я не прибегаю к генерации суррогатного и композитного ключей.\n",
    "\n",
    "Все остальные атрибуты зависят только от `product_id` и не имеют транзитивных зависимостей. Таким образом, таблица `products` также соответствует третьей нормальной форме.\n",
    "\n",
    "3. Transactions (Транзакции):\n",
    "\n",
    "`transaction_id` - первичный ключ, уникально идентифицирует каждую транзакцию.\n",
    "`product_id` и `customer_id` - внешние ключи, связывают таблицу с Products и Customers соответственно.\n",
    "Остальные атрибуты (`transaction_date`, `online_order`, `order_status`) зависят только от `transaction_id`.\n",
    "\n",
    "Таким образом, таблица Transactions также соответствует третьей нормальной форме, так как неключевые атрибуты зависят только от первичного ключа, и транзитивных зависимостей нет."
   ]
  },
  {
   "cell_type": "markdown",
   "metadata": {},
   "source": [
    "## Postgres Screenshots:"
   ]
  },
  {
   "cell_type": "markdown",
   "metadata": {},
   "source": [
    "![PG Relations](pg_relations.png)\n",
    "![PG Table](pg_table.png)\n",
    "![PG Properties](pg_properties.png)"
   ]
  }
 ],
 "metadata": {
  "kernelspec": {
   "display_name": "Python 3",
   "language": "python",
   "name": "python3"
  },
  "language_info": {
   "codemirror_mode": {
    "name": "ipython",
    "version": 3
   },
   "file_extension": ".py",
   "mimetype": "text/x-python",
   "name": "python",
   "nbconvert_exporter": "python",
   "pygments_lexer": "ipython3",
   "version": "3.11.4"
  }
 },
 "nbformat": 4,
 "nbformat_minor": 2
}
